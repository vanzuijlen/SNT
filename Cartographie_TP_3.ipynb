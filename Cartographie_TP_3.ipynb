{
 "cells": [
  {
   "cell_type": "markdown",
   "metadata": {
    "colab_type": "text",
    "id": "nf7E1OWNGioG"
   },
   "source": [
    "# Cartographie TP 3"
   ]
  },
  {
   "cell_type": "markdown",
   "metadata": {
    "colab_type": "text",
    "id": "ZiiM4S1dGioM"
   },
   "source": [
    "<font color='red'> Écrire votre nom </font>"
   ]
  },
  {
   "cell_type": "markdown",
   "metadata": {
    "colab_type": "text",
    "id": "Q0NK83CLGioT"
   },
   "source": [
    "*ici*"
   ]
  },
  {
   "cell_type": "markdown",
   "metadata": {
    "colab_type": "text",
    "id": "a5gA62EyGioV"
   },
   "source": [
    "## Obtenir les données de géolocalisation d'une photo\n",
    "\n",
    "Voici une photo :\n",
    "\n",
    "\n",
    "\n",
    "<img src=\"http://isn-icn-ljm.pagesperso-orange.fr/photo/photo1.jpg\" alt='photo1' width='400px' height='350px'>\n",
    "\n",
    "\n",
    "<a href=\"http://isn-icn-ljm.pagesperso-orange.fr/photo/photo1.jpg\">Téléchargez la</a>, et faites afficher ses propriétés (clic droit). Vous devriez voir les coordonnées GPS de l'endroit où a été prise la photo\n",
    "\n",
    "**Notez ci-dessous les coordonnées GPS**\n",
    "\n",
    "\n"
   ]
  },
  {
   "cell_type": "markdown",
   "metadata": {
    "colab_type": "text",
    "id": "U5I3KR1oGioa"
   },
   "source": [
    "------------------------\n",
    "\n",
    "**Réponse**: \n",
    "\n",
    "-----------------------"
   ]
  },
  {
   "cell_type": "markdown",
   "metadata": {
    "colab_type": "text",
    "id": "9o8sLR5AGiod"
   },
   "source": [
    "## Les unités\n",
    "\n",
    "**Les coordonnées GPS sont en degrés : minutes et secondes**\n",
    "\n",
    "Pour la latitude on lit :  **33;52;31.658935546875**\n",
    "\n",
    "Pour exploiter ces données il faut les convertir en degré décimal :  \n",
    "\n",
    "C'est à dire :  **latitude = 33+52/60+31.658935546875/3600**"
   ]
  },
  {
   "cell_type": "code",
   "execution_count": 3,
   "metadata": {
    "colab": {},
    "colab_type": "code",
    "id": "ItBTSPgkGiog",
    "outputId": "4f1fae6b-d88c-4835-808e-3988a320d9e7"
   },
   "outputs": [
    {
     "name": "stdout",
     "output_type": "stream",
     "text": [
      "33.87546081542969\n"
     ]
    }
   ],
   "source": [
    "# ce qui donne :\n",
    "latitude = 33+52/60+31.658935546875/3600\n",
    "print(latitude)"
   ]
  },
  {
   "cell_type": "markdown",
   "metadata": {
    "colab_type": "text",
    "id": "8NcJ_2LnGiov"
   },
   "source": [
    "\n",
    "<hr>\n",
    "\n",
    "## À faire:\n",
    "\n",
    "**Déterminer la valeur de la longitude en degré décimal**"
   ]
  },
  {
   "cell_type": "code",
   "execution_count": 0,
   "metadata": {
    "colab": {},
    "colab_type": "code",
    "id": "SjiAvLilGiow"
   },
   "outputs": [],
   "source": [
    "# Écrire le calcul ici"
   ]
  },
  {
   "cell_type": "markdown",
   "metadata": {
    "colab_type": "text",
    "id": "vZXbln9TGio3"
   },
   "source": [
    "<hr>\n",
    "\n",
    "## Un détail ?\n",
    "\n",
    "**Comment faire pour savoir s'il s'agit de latitude Nord ou Sud et de longitude Est ou Ouest ?**\n",
    "\n",
    "### Nous avons 4 cas possibles :\n",
    "\n",
    "* **Cas 1: ( Nord et Est )**\n",
    "    * lat = 33.87546081542969 \n",
    "    * lon = 116.3016196017795\n",
    "* **Cas 2: ( Nord et ouest )**\n",
    "    * lat = 33.87546081542969 \n",
    "    * lon = -116.3016196017795\n",
    "* **Cas 3: ( Sud et Est )**\n",
    "    * lat = -33.87546081542969 \n",
    "    * lon = 116.3016196017795\n",
    "* **Cas 4: ( Sud et ouest )**\n",
    "    * lat = -33.87546081542969 \n",
    "    * lon = -116.3016196017795\n",
    "    \n",
    "**Testez ces 4 cas sur le web ( Géoportail ou autres...)**\n",
    "\n",
    "**Avez vous une idée du lieu de cette photo ?**\n"
   ]
  },
  {
   "cell_type": "markdown",
   "metadata": {
    "colab_type": "text",
    "id": "7cXfnfhyGio7"
   },
   "source": [
    "------------------------\n",
    "\n",
    "**Réponse**: \n",
    "\n",
    "-----------------------"
   ]
  },
  {
   "cell_type": "markdown",
   "metadata": {
    "colab_type": "text",
    "id": "xDhQ65daGio-"
   },
   "source": [
    "## Comment régler ce détail \n",
    "\n",
    "Ces informations sont contenues dans la photo, il suffit pour cela de faire afficher les données EXIFS de cette photo.\n",
    "\n",
    "Sur le Web, on trouve des sites qui permettent de le faire \n",
    "\n",
    "Faites afficher les données Exifs de cette photo sur <a href=\"http://metapicz.com/#landing\">ce site </a> par exemple\n",
    "\n",
    "**Donnez les coordonnées complète de la photo :**"
   ]
  },
  {
   "cell_type": "markdown",
   "metadata": {
    "colab_type": "text",
    "id": "QV8SkGubGio_"
   },
   "source": [
    "------------------------\n",
    "\n",
    "**Réponse**: \n",
    "\n",
    "-----------------------"
   ]
  },
  {
   "cell_type": "markdown",
   "metadata": {
    "colab_type": "text",
    "id": "s76YclIEGipB"
   },
   "source": [
    "\n",
    "## Un programme\n",
    "\n",
    "Ce programme affiche les coordonnées du lieu où la  photo a été prise:\n",
    "\n",
    "**Les bibliothèques utilisées sont :**\n",
    "* pilow (PIL)pour la lecture des données EXIFS\n",
    "* requests pour l'import depuis une url\n",
    "* io pour la lecture de fichier image"
   ]
  },
  {
   "cell_type": "code",
   "execution_count": 0,
   "metadata": {
    "colab": {},
    "colab_type": "code",
    "id": "FiPzGUhtHKRT"
   },
   "outputs": [],
   "source": [
    "#pip install pillow"
   ]
  },
  {
   "cell_type": "code",
   "execution_count": 15,
   "metadata": {
    "colab": {
     "base_uri": "https://localhost:8080/",
     "height": 72
    },
    "colab_type": "code",
    "id": "-QFeTJQdGipD",
    "outputId": "da4a1fea-6a5a-4e95-f4de-bc479c96463e"
   },
   "outputs": [
    {
     "name": "stdout",
     "output_type": "stream",
     "text": [
      "{0: b'\\x02\\x00\\x00\\x00', 1: 'N', 2: (33.0, 52.0, 31.658935546875), 3: 'W', 4: (116.0, 18.0, 5.83056640625), 5: b'\\x00', 6: 304.0, 18: 'WGS-84'}\n",
      "33.87546081542969\n",
      "-116.3016196017795\n"
     ]
    }
   ],
   "source": [
    "#chargement des bibliothèques \n",
    "from PIL import Image\n",
    "import requests\n",
    "from io import BytesIO\n",
    "\n",
    "# chargement de la photo se trouvant à l'adresse donnée\n",
    "url=\" https://isn-icn-ljm.pagesperso-orange.fr/photo/photo1.jpg\"\n",
    "response = requests.get(url)\n",
    "im = Image.open(BytesIO(response.content))\n",
    "\n",
    "# Si la photo est dans le même dossier que le programme\n",
    "#chargement de l'image ( même dossier que le programme)\n",
    "#im = Image.open( 'photo.jpg' )\n",
    "\n",
    "# chargement des données exif, c'est un dictionnaire les données gps sont à la clé 34853\n",
    "# repéré à l'aide de l'explorateur de variable de l'ide python\n",
    "exif_data = im._getexif()\n",
    "#chargement des données de la clé 34853\n",
    "# on crée un dictionnaire pour contenir les données GPS\n",
    "test={}\n",
    "test=exif_data[34853]\n",
    "# eplorer la variable test pour savoir comment elle est structurée\n",
    "print(test)\n",
    "\n",
    "# ce dico contient les données recherchées\n",
    "# la latitude est à la clé 2 qui est un tuple\n",
    "# la longitude à l clé 4\n",
    "# il faut les transformer en nombres (float)\n",
    "\n",
    "# récupération de la latitude\n",
    "lat_deg=float(test[2][0])\n",
    "lat_min=float(test[2][1])/60\n",
    "lat_sec=float(test[2][2])/3600\n",
    "lat=lat_deg+lat_min+lat_sec \n",
    "# signe en fonction de Nord /Sud\n",
    "if test[1]=='S':\n",
    "    lat=-lat\n",
    "print(lat)\n",
    "# récupération de la longitude\n",
    "lon_deg=float(test[4][0])\n",
    "lon_min=float(test[4][1])/60\n",
    "lon_sec=float(test[4][2])/3600\n",
    "lon=lon_deg+lon_min+lon_sec\n",
    "# signe en fonction de Est/Ouest\n",
    "if test[3]=='W':\n",
    "    lon=-lon\n",
    "print(lon)\n"
   ]
  },
  {
   "cell_type": "markdown",
   "metadata": {
    "colab_type": "text",
    "id": "JWhYuC5iGipP"
   },
   "source": [
    "<hr>\n",
    "\n",
    "## À faire :\n",
    "\n",
    "**En vous aidant des TP précédents et du programme ci-dessus, faites afficher sur une carte un marqueur sur le lieu où la photo a été prise**"
   ]
  },
  {
   "cell_type": "code",
   "execution_count": 16,
   "metadata": {
    "colab": {},
    "colab_type": "code",
    "id": "PzErKn5wGipS"
   },
   "outputs": [
    {
     "data": {
      "text/html": [
       "<div style=\"width:100%;\"><div style=\"position:relative;width:100%;height:0;padding-bottom:60%;\"><span style=\"color:#565656\">Make this Notebook Trusted to load map: File -> Trust Notebook</span><iframe src=\"about:blank\" style=\"position:absolute;width:100%;height:100%;left:0;top:0;border:none !important;\" data-html=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 onload=\"this.contentDocument.open();this.contentDocument.write(atob(this.getAttribute('data-html')));this.contentDocument.close();\" allowfullscreen webkitallowfullscreen mozallowfullscreen></iframe></div></div>"
      ],
      "text/plain": [
       "<folium.folium.Map at 0x7fe2eff6ec10>"
      ]
     },
     "metadata": {},
     "output_type": "display_data"
    }
   ],
   "source": [
    "#Écrire le code ici\n",
    "import folium\n",
    "zoom='3'\n",
    "#lat=0\n",
    "#lon=0\n",
    "#création de la carte centrée au point indiqué\n",
    "ma_carte1=folium.Map(location=[lat,lon],zoom_start=zoom)\n",
    "# ligne pour afficher un marqueur à l'endroit indiqué\n",
    "folium.Marker([lat,lon],popup=\"le point de coordonnées (0,0)\").add_to(ma_carte1)\n",
    "#ligne pour faire afficher la carte dans ce notebook\n",
    "display(ma_carte1)"
   ]
  },
  {
   "cell_type": "markdown",
   "metadata": {
    "colab_type": "text",
    "id": "ArYZDRmmGipb"
   },
   "source": [
    "<hr>\n",
    "\n",
    "## À faire:\n",
    "\n",
    "Reprendre le travail précédent avec cette photo : \n",
    "\n",
    "l'URL est :  https://isn-icn-ljm.pagesperso-orange.fr/photo/IMG1.jpg  \n",
    "\n",
    "\n",
    "<img src=\"https://isn-icn-ljm.pagesperso-orange.fr/photo/IMG1.jpg\" alt='photo1' width='400px' height='350px'>"
   ]
  },
  {
   "cell_type": "code",
   "execution_count": 0,
   "metadata": {
    "colab": {},
    "colab_type": "code",
    "id": "h9bsl2tKGipd"
   },
   "outputs": [],
   "source": [
    "#Écrire le code ici"
   ]
  },
  {
   "cell_type": "markdown",
   "metadata": {
    "colab_type": "text",
    "id": "xE5AbNv8Gipo"
   },
   "source": [
    "<hr>\n",
    "\n",
    "## À faire:\n",
    "\n",
    "Reprendre le travail précédent avec une photo prise par votre smartphone (autorisez la géolocalisation)\n",
    "\n",
    "On chargera la photo dans le programme depuis le dossier qui contient ce notebook avec les instructions :"
   ]
  },
  {
   "cell_type": "code",
   "execution_count": null,
   "metadata": {
    "colab": {},
    "colab_type": "code",
    "id": "zQQeKePiGipu"
   },
   "outputs": [],
   "source": [
    "#chargement des bibliothèques \n",
    "from PIL import Image\n",
    "\n",
    "\n",
    "# Si la photo est dans le même dossier que le programme\n",
    "#chargement de l'image ( même dossier que le programme)\n",
    "im = Image.open( 'photo1.jpg' )\n",
    "\n",
    "# chargement des données exif, c'est un dictionnaire les données gps sont à la clé 34853\n",
    "# repéré à l'aide de l'explorateur de variable de l'ide python\n",
    "exif_data = im._getexif()\n",
    "#chargement des données de la clé 34853\n",
    "# on crée un dictionnaire pour contenir les données GPS\n",
    "test={}\n",
    "test=exif_data[34853]\n",
    "# eplorer la variable test pour savoir comment elle est structurée\n",
    "print(test)"
   ]
  },
  {
   "cell_type": "markdown",
   "metadata": {
    "colab_type": "text",
    "id": "zpzcBCvnGip4"
   },
   "source": [
    "**Compléter le code ci-dessus pour faire ce travail**"
   ]
  },
  {
   "cell_type": "code",
   "execution_count": 0,
   "metadata": {
    "colab": {},
    "colab_type": "code",
    "id": "vn0-2m_wGip7"
   },
   "outputs": [],
   "source": [
    "#Écrire le code ici"
   ]
  },
  {
   "cell_type": "markdown",
   "metadata": {
    "colab_type": "text",
    "id": "9_23EbmHGiqD"
   },
   "source": [
    "\n",
    "<hr>\n",
    "<font color='red'> Enregistrez ce travail sous le nom : cartographie_tp_1_votre_nom.ipynb et déposez le là où on vous le dira </font>\n",
    "\n",
    "### Pour enregistrer:\n",
    "\n",
    "1. File\n",
    "2. Save notebook as\n",
    "3. Pour le récupérer cliquez sur le dossier à gauche en haut...\n",
    "4. cliquez droit sur le fichier et download\n",
    "\n",
    "### Autre méthode \n",
    "\n",
    "Dans **home**\n",
    "sélectionnez le fichier et download \n",
    "\n"
   ]
  },
  {
   "cell_type": "code",
   "execution_count": 0,
   "metadata": {
    "colab": {},
    "colab_type": "code",
    "id": "gGUWT1UFG49h"
   },
   "outputs": [],
   "source": []
  }
 ],
 "metadata": {
  "colab": {
   "collapsed_sections": [],
   "name": "Cartographie_TP_3.ipynb",
   "provenance": []
  },
  "kernelspec": {
   "display_name": "Python 3",
   "language": "python",
   "name": "python3"
  },
  "language_info": {
   "codemirror_mode": {
    "name": "ipython",
    "version": 3
   },
   "file_extension": ".py",
   "mimetype": "text/x-python",
   "name": "python",
   "nbconvert_exporter": "python",
   "pygments_lexer": "ipython3",
   "version": "3.7.8"
  }
 },
 "nbformat": 4,
 "nbformat_minor": 1
}
